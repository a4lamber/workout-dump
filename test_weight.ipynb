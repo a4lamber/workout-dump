{
 "cells": [
  {
   "cell_type": "code",
   "execution_count": 1,
   "metadata": {},
   "outputs": [],
   "source": [
    "import json\n",
    "import os\n",
    "import pyspark"
   ]
  },
  {
   "cell_type": "code",
   "execution_count": 2,
   "metadata": {},
   "outputs": [
    {
     "name": "stderr",
     "output_type": "stream",
     "text": [
      "Using Spark's default log4j profile: org/apache/spark/log4j-defaults.properties\n",
      "Setting default log level to \"WARN\".\n",
      "To adjust logging level use sc.setLogLevel(newLevel). For SparkR, use setLogLevel(newLevel).\n",
      "22/12/07 12:04:40 WARN NativeCodeLoader: Unable to load native-hadoop library for your platform... using builtin-java classes where applicable\n"
     ]
    }
   ],
   "source": [
    "from pyspark.sql import SparkSession\n",
    "spark = SparkSession.builder.getOrCreate()"
   ]
  },
  {
   "cell_type": "code",
   "execution_count": 3,
   "metadata": {},
   "outputs": [
    {
     "name": "stdout",
     "output_type": "stream",
     "text": [
      "./raw/20221205.json\n",
      "./raw/20221206.json\n"
     ]
    },
    {
     "data": {
      "text/plain": [
       "['./raw/20221205.json', './raw/20221206.json']"
      ]
     },
     "execution_count": 3,
     "metadata": {},
     "output_type": "execute_result"
    }
   ],
   "source": [
    "filepath = \"./raw/\"\n",
    "\n",
    "files = []\n",
    "\n",
    "for item in os.listdir(filepath):\n",
    "    file = os.path.join(filepath,item)\n",
    "    print(file)\n",
    "    files.append(file)\n",
    "\n",
    "files    \n",
    "    # # open the specific file\n",
    "    # with open(file) as f:\n",
    "    #   data = json.load(f)\n",
    "    #   print(json.dumps(data,indent=2))"
   ]
  },
  {
   "cell_type": "code",
   "execution_count": 4,
   "metadata": {},
   "outputs": [],
   "source": [
    "from pyspark.sql.types import StructType,StructField,StringType,FloatType,DateType,ArrayType"
   ]
  },
  {
   "cell_type": "code",
   "execution_count": 5,
   "metadata": {},
   "outputs": [],
   "source": [
    "# define a schema\n",
    "\n",
    "schema_workout = StructType([\n",
    "    StructField(\"date\",DateType(),True),\n",
    "    StructField(\"weight\",FloatType(),True),\n",
    "    StructField(\"weight_unit\",StringType(),True),\n",
    "    StructField(\"workout\",StringType(),True)\n",
    "])\n"
   ]
  },
  {
   "cell_type": "code",
   "execution_count": 6,
   "metadata": {},
   "outputs": [
    {
     "name": "stderr",
     "output_type": "stream",
     "text": [
      "                                                                                \r"
     ]
    }
   ],
   "source": [
    "# df = spark.read.schema(schema_workout)\\\n",
    "#                .json(path = files[0]\n",
    "#                      ,multiLine=True)\n",
    "      \n",
    "df = spark.read.json(path = files[0],multiLine=True)\n",
    "                        "
   ]
  },
  {
   "cell_type": "code",
   "execution_count": 7,
   "metadata": {},
   "outputs": [
    {
     "name": "stdout",
     "output_type": "stream",
     "text": [
      "root\n",
      " |-- date: string (nullable = true)\n",
      " |-- weight: double (nullable = true)\n",
      " |-- weight_unit: string (nullable = true)\n",
      " |-- workout: array (nullable = true)\n",
      " |    |-- element: struct (containsNull = true)\n",
      " |    |    |-- details: array (nullable = true)\n",
      " |    |    |    |-- element: struct (containsNull = true)\n",
      " |    |    |    |    |-- reps: long (nullable = true)\n",
      " |    |    |    |    |-- unit: string (nullable = true)\n",
      " |    |    |    |    |-- weight: long (nullable = true)\n",
      " |    |    |-- name: string (nullable = true)\n",
      " |    |    |-- note: string (nullable = true)\n",
      "\n"
     ]
    }
   ],
   "source": [
    "df.printSchema()"
   ]
  },
  {
   "cell_type": "code",
   "execution_count": 8,
   "metadata": {},
   "outputs": [
    {
     "name": "stdout",
     "output_type": "stream",
     "text": [
      "+----------+------+-----------+--------------------+\n",
      "|      date|weight|weight_unit|             workout|\n",
      "+----------+------+-----------+--------------------+\n",
      "|2022-12-05|  85.4|         kg|[{[{8, lb, 0}, {8...|\n",
      "+----------+------+-----------+--------------------+\n",
      "\n"
     ]
    }
   ],
   "source": [
    "df.show()"
   ]
  },
  {
   "cell_type": "code",
   "execution_count": 9,
   "metadata": {},
   "outputs": [],
   "source": [
    "from pyspark.sql import functions as F"
   ]
  },
  {
   "cell_type": "markdown",
   "metadata": {},
   "source": [
    "You need to see [this](https://stackoverflow.com/questions/70087524/pyspark-how-to-parse-nested-json) for complex json:\n",
    "- convert `struct` to `array` before unnesting"
   ]
  },
  {
   "cell_type": "code",
   "execution_count": 10,
   "metadata": {},
   "outputs": [
    {
     "name": "stdout",
     "output_type": "stream",
     "text": [
      "+--------------------+-----------+--------------------+\n",
      "|             details|       name|                note|\n",
      "+--------------------+-----------+--------------------+\n",
      "|[{8, lb, 0}, {8, ...|    pull up|      slightly tired|\n",
      "|[{10, lb, 95}, {1...|barbell row|    getting started!|\n",
      "|[{10, lb, 45}, {1...|dumbell row|    getting started!|\n",
      "|[{10, lb, 0}, {10...|       dips|dip targeting tricep|\n",
      "+--------------------+-----------+--------------------+\n",
      "\n"
     ]
    }
   ],
   "source": [
    "df2 = df.withColumn(\"workout\",F.explode(F.col(\"workout\"))).select(\"workout.*\")\n",
    "df2.show()"
   ]
  },
  {
   "cell_type": "code",
   "execution_count": 11,
   "metadata": {},
   "outputs": [
    {
     "name": "stdout",
     "output_type": "stream",
     "text": [
      "+--------------------+-------+--------------+-----------+-----------+\n",
      "|             details|   name|          note|  details_2|  details_3|\n",
      "+--------------------+-------+--------------+-----------+-----------+\n",
      "|[{8, lb, 0}, {8, ...|pull up|slightly tired| {8, lb, 0}| {8, lb, 0}|\n",
      "|[{8, lb, 0}, {8, ...|pull up|slightly tired| {8, lb, 0}| {8, lb, 0}|\n",
      "|[{8, lb, 0}, {8, ...|pull up|slightly tired| {8, lb, 0}| {5, lb, 0}|\n",
      "|[{8, lb, 0}, {8, ...|pull up|slightly tired| {8, lb, 0}|{3, lb, 25}|\n",
      "|[{8, lb, 0}, {8, ...|pull up|slightly tired| {8, lb, 0}|{3, lb, 25}|\n",
      "|[{8, lb, 0}, {8, ...|pull up|slightly tired| {8, lb, 0}| {8, lb, 0}|\n",
      "|[{8, lb, 0}, {8, ...|pull up|slightly tired| {8, lb, 0}| {8, lb, 0}|\n",
      "|[{8, lb, 0}, {8, ...|pull up|slightly tired| {8, lb, 0}| {5, lb, 0}|\n",
      "|[{8, lb, 0}, {8, ...|pull up|slightly tired| {8, lb, 0}|{3, lb, 25}|\n",
      "|[{8, lb, 0}, {8, ...|pull up|slightly tired| {8, lb, 0}|{3, lb, 25}|\n",
      "|[{8, lb, 0}, {8, ...|pull up|slightly tired| {5, lb, 0}| {8, lb, 0}|\n",
      "|[{8, lb, 0}, {8, ...|pull up|slightly tired| {5, lb, 0}| {8, lb, 0}|\n",
      "|[{8, lb, 0}, {8, ...|pull up|slightly tired| {5, lb, 0}| {5, lb, 0}|\n",
      "|[{8, lb, 0}, {8, ...|pull up|slightly tired| {5, lb, 0}|{3, lb, 25}|\n",
      "|[{8, lb, 0}, {8, ...|pull up|slightly tired| {5, lb, 0}|{3, lb, 25}|\n",
      "|[{8, lb, 0}, {8, ...|pull up|slightly tired|{3, lb, 25}| {8, lb, 0}|\n",
      "|[{8, lb, 0}, {8, ...|pull up|slightly tired|{3, lb, 25}| {8, lb, 0}|\n",
      "|[{8, lb, 0}, {8, ...|pull up|slightly tired|{3, lb, 25}| {5, lb, 0}|\n",
      "|[{8, lb, 0}, {8, ...|pull up|slightly tired|{3, lb, 25}|{3, lb, 25}|\n",
      "|[{8, lb, 0}, {8, ...|pull up|slightly tired|{3, lb, 25}|{3, lb, 25}|\n",
      "+--------------------+-------+--------------+-----------+-----------+\n",
      "only showing top 20 rows\n",
      "\n"
     ]
    }
   ],
   "source": [
    "df3 = df2.withColumn(colName = \"details_2\",col = F.explode(F.col(\"details\")))\\\n",
    "         .withColumn(colName = \"details_3\",col = F.explode(F.col(\"details\")))\n",
    "df3.show()"
   ]
  },
  {
   "cell_type": "code",
   "execution_count": 12,
   "metadata": {},
   "outputs": [
    {
     "name": "stdout",
     "output_type": "stream",
     "text": [
      "+------------+-----------+--------------------+\n",
      "|     details|       name|                note|\n",
      "+------------+-----------+--------------------+\n",
      "|  {8, lb, 0}|    pull up|      slightly tired|\n",
      "|  {8, lb, 0}|    pull up|      slightly tired|\n",
      "|  {5, lb, 0}|    pull up|      slightly tired|\n",
      "| {3, lb, 25}|    pull up|      slightly tired|\n",
      "| {3, lb, 25}|    pull up|      slightly tired|\n",
      "|{10, lb, 95}|barbell row|    getting started!|\n",
      "|{10, lb, 95}|barbell row|    getting started!|\n",
      "|{10, lb, 95}|barbell row|    getting started!|\n",
      "| {8, lb, 95}|barbell row|    getting started!|\n",
      "|{10, lb, 45}|dumbell row|    getting started!|\n",
      "|{10, lb, 45}|dumbell row|    getting started!|\n",
      "|{10, lb, 45}|dumbell row|    getting started!|\n",
      "| {8, lb, 45}|dumbell row|    getting started!|\n",
      "| {10, lb, 0}|       dips|dip targeting tricep|\n",
      "| {10, lb, 0}|       dips|dip targeting tricep|\n",
      "+------------+-----------+--------------------+\n",
      "\n"
     ]
    }
   ],
   "source": [
    "df3 = df2.withColumn(colName = \"details\",col = F.explode(F.col(\"details\")))\n",
    "df3.show()"
   ]
  },
  {
   "cell_type": "code",
   "execution_count": 13,
   "metadata": {},
   "outputs": [
    {
     "data": {
      "text/plain": [
       "Column<'explode(details)'>"
      ]
     },
     "execution_count": 13,
     "metadata": {},
     "output_type": "execute_result"
    }
   ],
   "source": [
    "F.explode(F.col(\"details\"))"
   ]
  },
  {
   "cell_type": "code",
   "execution_count": 14,
   "metadata": {},
   "outputs": [
    {
     "name": "stdout",
     "output_type": "stream",
     "text": [
      "+--------------------+-----------+--------------------+------------+\n",
      "|             details|       name|                note|        reps|\n",
      "+--------------------+-----------+--------------------+------------+\n",
      "|[{8, lb, 0}, {8, ...|    pull up|      slightly tired|  {8, lb, 0}|\n",
      "|[{8, lb, 0}, {8, ...|    pull up|      slightly tired|  {8, lb, 0}|\n",
      "|[{8, lb, 0}, {8, ...|    pull up|      slightly tired|  {5, lb, 0}|\n",
      "|[{8, lb, 0}, {8, ...|    pull up|      slightly tired| {3, lb, 25}|\n",
      "|[{8, lb, 0}, {8, ...|    pull up|      slightly tired| {3, lb, 25}|\n",
      "|[{10, lb, 95}, {1...|barbell row|    getting started!|{10, lb, 95}|\n",
      "|[{10, lb, 95}, {1...|barbell row|    getting started!|{10, lb, 95}|\n",
      "|[{10, lb, 95}, {1...|barbell row|    getting started!|{10, lb, 95}|\n",
      "|[{10, lb, 95}, {1...|barbell row|    getting started!| {8, lb, 95}|\n",
      "|[{10, lb, 45}, {1...|dumbell row|    getting started!|{10, lb, 45}|\n",
      "|[{10, lb, 45}, {1...|dumbell row|    getting started!|{10, lb, 45}|\n",
      "|[{10, lb, 45}, {1...|dumbell row|    getting started!|{10, lb, 45}|\n",
      "|[{10, lb, 45}, {1...|dumbell row|    getting started!| {8, lb, 45}|\n",
      "|[{10, lb, 0}, {10...|       dips|dip targeting tricep| {10, lb, 0}|\n",
      "|[{10, lb, 0}, {10...|       dips|dip targeting tricep| {10, lb, 0}|\n",
      "+--------------------+-----------+--------------------+------------+\n",
      "\n"
     ]
    }
   ],
   "source": [
    "df3 = df2.withColumn(colName = \"reps\",col = F.explode(F.col(\"details\")))\n",
    "df3.show()"
   ]
  },
  {
   "cell_type": "code",
   "execution_count": 15,
   "metadata": {},
   "outputs": [
    {
     "ename": "AnalysisException",
     "evalue": "Can only star expand struct data types. Attribute: `ArrayBuffer(details)`",
     "output_type": "error",
     "traceback": [
      "\u001b[0;31m---------------------------------------------------------------------------\u001b[0m",
      "\u001b[0;31mAnalysisException\u001b[0m                         Traceback (most recent call last)",
      "\u001b[1;32m/Users/yixiangzhang/Documents/workout-log/workout-dump/test_weight.ipynb Cell 16\u001b[0m in \u001b[0;36m<cell line: 1>\u001b[0;34m()\u001b[0m\n\u001b[0;32m----> <a href='vscode-notebook-cell:/Users/yixiangzhang/Documents/workout-log/workout-dump/test_weight.ipynb#X21sZmlsZQ%3D%3D?line=0'>1</a>\u001b[0m df4 \u001b[39m=\u001b[39m df3\u001b[39m.\u001b[39;49mselect(\u001b[39m'\u001b[39;49m\u001b[39mdetails.*\u001b[39;49m\u001b[39m'\u001b[39;49m)\n\u001b[1;32m      <a href='vscode-notebook-cell:/Users/yixiangzhang/Documents/workout-log/workout-dump/test_weight.ipynb#X21sZmlsZQ%3D%3D?line=1'>2</a>\u001b[0m df4\u001b[39m.\u001b[39mshow()\n",
      "File \u001b[0;32m/opt/miniconda3/envs/workout/lib/python3.10/site-packages/pyspark/sql/dataframe.py:1685\u001b[0m, in \u001b[0;36mDataFrame.select\u001b[0;34m(self, *cols)\u001b[0m\n\u001b[1;32m   1664\u001b[0m \u001b[39mdef\u001b[39;00m \u001b[39mselect\u001b[39m(\u001b[39mself\u001b[39m, \u001b[39m*\u001b[39mcols):\n\u001b[1;32m   1665\u001b[0m     \u001b[39m\"\"\"Projects a set of expressions and returns a new :class:`DataFrame`.\u001b[39;00m\n\u001b[1;32m   1666\u001b[0m \n\u001b[1;32m   1667\u001b[0m \u001b[39m    .. versionadded:: 1.3.0\u001b[39;00m\n\u001b[0;32m   (...)\u001b[0m\n\u001b[1;32m   1683\u001b[0m \u001b[39m    [Row(name='Alice', age=12), Row(name='Bob', age=15)]\u001b[39;00m\n\u001b[1;32m   1684\u001b[0m \u001b[39m    \"\"\"\u001b[39;00m\n\u001b[0;32m-> 1685\u001b[0m     jdf \u001b[39m=\u001b[39m \u001b[39mself\u001b[39;49m\u001b[39m.\u001b[39;49m_jdf\u001b[39m.\u001b[39;49mselect(\u001b[39mself\u001b[39;49m\u001b[39m.\u001b[39;49m_jcols(\u001b[39m*\u001b[39;49mcols))\n\u001b[1;32m   1686\u001b[0m     \u001b[39mreturn\u001b[39;00m DataFrame(jdf, \u001b[39mself\u001b[39m\u001b[39m.\u001b[39msql_ctx)\n",
      "File \u001b[0;32m/opt/miniconda3/envs/workout/lib/python3.10/site-packages/py4j/java_gateway.py:1321\u001b[0m, in \u001b[0;36mJavaMember.__call__\u001b[0;34m(self, *args)\u001b[0m\n\u001b[1;32m   1315\u001b[0m command \u001b[39m=\u001b[39m proto\u001b[39m.\u001b[39mCALL_COMMAND_NAME \u001b[39m+\u001b[39m\\\n\u001b[1;32m   1316\u001b[0m     \u001b[39mself\u001b[39m\u001b[39m.\u001b[39mcommand_header \u001b[39m+\u001b[39m\\\n\u001b[1;32m   1317\u001b[0m     args_command \u001b[39m+\u001b[39m\\\n\u001b[1;32m   1318\u001b[0m     proto\u001b[39m.\u001b[39mEND_COMMAND_PART\n\u001b[1;32m   1320\u001b[0m answer \u001b[39m=\u001b[39m \u001b[39mself\u001b[39m\u001b[39m.\u001b[39mgateway_client\u001b[39m.\u001b[39msend_command(command)\n\u001b[0;32m-> 1321\u001b[0m return_value \u001b[39m=\u001b[39m get_return_value(\n\u001b[1;32m   1322\u001b[0m     answer, \u001b[39mself\u001b[39;49m\u001b[39m.\u001b[39;49mgateway_client, \u001b[39mself\u001b[39;49m\u001b[39m.\u001b[39;49mtarget_id, \u001b[39mself\u001b[39;49m\u001b[39m.\u001b[39;49mname)\n\u001b[1;32m   1324\u001b[0m \u001b[39mfor\u001b[39;00m temp_arg \u001b[39min\u001b[39;00m temp_args:\n\u001b[1;32m   1325\u001b[0m     temp_arg\u001b[39m.\u001b[39m_detach()\n",
      "File \u001b[0;32m/opt/miniconda3/envs/workout/lib/python3.10/site-packages/pyspark/sql/utils.py:117\u001b[0m, in \u001b[0;36mcapture_sql_exception.<locals>.deco\u001b[0;34m(*a, **kw)\u001b[0m\n\u001b[1;32m    113\u001b[0m converted \u001b[39m=\u001b[39m convert_exception(e\u001b[39m.\u001b[39mjava_exception)\n\u001b[1;32m    114\u001b[0m \u001b[39mif\u001b[39;00m \u001b[39mnot\u001b[39;00m \u001b[39misinstance\u001b[39m(converted, UnknownException):\n\u001b[1;32m    115\u001b[0m     \u001b[39m# Hide where the exception came from that shows a non-Pythonic\u001b[39;00m\n\u001b[1;32m    116\u001b[0m     \u001b[39m# JVM exception message.\u001b[39;00m\n\u001b[0;32m--> 117\u001b[0m     \u001b[39mraise\u001b[39;00m converted \u001b[39mfrom\u001b[39;00m \u001b[39mNone\u001b[39m\n\u001b[1;32m    118\u001b[0m \u001b[39melse\u001b[39;00m:\n\u001b[1;32m    119\u001b[0m     \u001b[39mraise\u001b[39;00m\n",
      "\u001b[0;31mAnalysisException\u001b[0m: Can only star expand struct data types. Attribute: `ArrayBuffer(details)`"
     ]
    }
   ],
   "source": [
    "df4 = df3.select('details.*')\n",
    "df4.show()"
   ]
  },
  {
   "cell_type": "code",
   "execution_count": null,
   "metadata": {},
   "outputs": [],
   "source": []
  }
 ],
 "metadata": {
  "kernelspec": {
   "display_name": "Python 3.10.8 ('workout')",
   "language": "python",
   "name": "python3"
  },
  "language_info": {
   "codemirror_mode": {
    "name": "ipython",
    "version": 3
   },
   "file_extension": ".py",
   "mimetype": "text/x-python",
   "name": "python",
   "nbconvert_exporter": "python",
   "pygments_lexer": "ipython3",
   "version": "3.10.8"
  },
  "orig_nbformat": 4,
  "vscode": {
   "interpreter": {
    "hash": "e3e0c539d89396dd32e69372822875f2dcb701b5d0b9736507633c7eca01c728"
   }
  }
 },
 "nbformat": 4,
 "nbformat_minor": 2
}
