{
 "cells": [
  {
   "cell_type": "code",
   "execution_count": 69,
   "metadata": {},
   "outputs": [],
   "source": [
    "import json\n",
    "import os\n",
    "import pyspark"
   ]
  },
  {
   "cell_type": "code",
   "execution_count": 70,
   "metadata": {},
   "outputs": [],
   "source": [
    "from pyspark.sql import SparkSession\n",
    "spark = SparkSession.builder.getOrCreate()"
   ]
  },
  {
   "cell_type": "code",
   "execution_count": 71,
   "metadata": {},
   "outputs": [
    {
     "name": "stdout",
     "output_type": "stream",
     "text": [
      "./raw/20221205.json\n",
      "./raw/20221206.json\n"
     ]
    },
    {
     "data": {
      "text/plain": [
       "['./raw/20221205.json', './raw/20221206.json']"
      ]
     },
     "execution_count": 71,
     "metadata": {},
     "output_type": "execute_result"
    }
   ],
   "source": [
    "filepath = \"./raw/\"\n",
    "\n",
    "files = []\n",
    "\n",
    "for item in os.listdir(filepath):\n",
    "    file = os.path.join(filepath,item)\n",
    "    print(file)\n",
    "    files.append(file)\n",
    "\n",
    "files    \n",
    "    # # open the specific file\n",
    "    # with open(file) as f:\n",
    "    #   data = json.load(f)\n",
    "    #   print(json.dumps(data,indent=2))"
   ]
  },
  {
   "cell_type": "code",
   "execution_count": 72,
   "metadata": {},
   "outputs": [],
   "source": [
    "from pyspark.sql.types import StructType,StructField,StringType,FloatType,DateType,ArrayType"
   ]
  },
  {
   "cell_type": "code",
   "execution_count": 73,
   "metadata": {},
   "outputs": [],
   "source": [
    "# define a schema\n",
    "\n",
    "schema_workout = StructType([\n",
    "    StructField(\"date\",DateType(),True),\n",
    "    StructField(\"weight\",FloatType(),True),\n",
    "    StructField(\"weight_unit\",StringType(),True),\n",
    "    StructField(\"workout\",StringType(),True)\n",
    "])\n"
   ]
  },
  {
   "cell_type": "code",
   "execution_count": 74,
   "metadata": {},
   "outputs": [],
   "source": [
    "# df = spark.read.schema(schema_workout)\\\n",
    "#                .json(path = files[0]\n",
    "#                      ,multiLine=True)\n",
    "      \n",
    "df = spark.read.json(path = files[0],multiLine=True)\n",
    "                        "
   ]
  },
  {
   "cell_type": "code",
   "execution_count": 75,
   "metadata": {},
   "outputs": [
    {
     "name": "stdout",
     "output_type": "stream",
     "text": [
      "root\n",
      " |-- date: string (nullable = true)\n",
      " |-- weight: double (nullable = true)\n",
      " |-- weight_unit: string (nullable = true)\n",
      " |-- workout: array (nullable = true)\n",
      " |    |-- element: struct (containsNull = true)\n",
      " |    |    |-- details: array (nullable = true)\n",
      " |    |    |    |-- element: struct (containsNull = true)\n",
      " |    |    |    |    |-- reps: long (nullable = true)\n",
      " |    |    |    |    |-- unit: string (nullable = true)\n",
      " |    |    |    |    |-- weight: long (nullable = true)\n",
      " |    |    |-- name: string (nullable = true)\n",
      " |    |    |-- note: string (nullable = true)\n",
      "\n"
     ]
    }
   ],
   "source": [
    "df.printSchema()"
   ]
  },
  {
   "cell_type": "code",
   "execution_count": 153,
   "metadata": {},
   "outputs": [
    {
     "name": "stdout",
     "output_type": "stream",
     "text": [
      "+----------+------+-----------+--------------------+\n",
      "|      date|weight|weight_unit|             workout|\n",
      "+----------+------+-----------+--------------------+\n",
      "|2022-12-05|  85.4|         kg|[{[{8, lb, 0}, {8...|\n",
      "+----------+------+-----------+--------------------+\n",
      "\n"
     ]
    }
   ],
   "source": [
    "df.show()"
   ]
  },
  {
   "cell_type": "code",
   "execution_count": 104,
   "metadata": {},
   "outputs": [],
   "source": [
    "from pyspark.sql import functions as F"
   ]
  },
  {
   "cell_type": "markdown",
   "metadata": {},
   "source": [
    "You need to see [this](https://stackoverflow.com/questions/70087524/pyspark-how-to-parse-nested-json) for complex json:\n",
    "- convert `struct` to `array` before unnesting"
   ]
  },
  {
   "cell_type": "code",
   "execution_count": 137,
   "metadata": {},
   "outputs": [
    {
     "name": "stdout",
     "output_type": "stream",
     "text": [
      "+--------------------+-----------+--------------------+\n",
      "|             details|       name|                note|\n",
      "+--------------------+-----------+--------------------+\n",
      "|[{8, lb, 0}, {8, ...|    pull up|      slightly tired|\n",
      "|[{10, lb, 95}, {1...|barbell row|    getting started!|\n",
      "|[{10, lb, 45}, {1...|dumbell row|    getting started!|\n",
      "|[{10, lb, 0}, {10...|       dips|dip targeting tricep|\n",
      "+--------------------+-----------+--------------------+\n",
      "\n"
     ]
    }
   ],
   "source": [
    "df2 = df.withColumn(\"workout\",F.explode(F.col(\"workout\"))).select(\"workout.*\")\n",
    "df2.show()"
   ]
  },
  {
   "cell_type": "code",
   "execution_count": 142,
   "metadata": {},
   "outputs": [
    {
     "name": "stdout",
     "output_type": "stream",
     "text": [
      "+--------------------+-------+--------------+-----------+-----------+\n",
      "|             details|   name|          note|  details_2|  details_3|\n",
      "+--------------------+-------+--------------+-----------+-----------+\n",
      "|[{8, lb, 0}, {8, ...|pull up|slightly tired| {8, lb, 0}| {8, lb, 0}|\n",
      "|[{8, lb, 0}, {8, ...|pull up|slightly tired| {8, lb, 0}| {8, lb, 0}|\n",
      "|[{8, lb, 0}, {8, ...|pull up|slightly tired| {8, lb, 0}| {5, lb, 0}|\n",
      "|[{8, lb, 0}, {8, ...|pull up|slightly tired| {8, lb, 0}|{3, lb, 25}|\n",
      "|[{8, lb, 0}, {8, ...|pull up|slightly tired| {8, lb, 0}|{3, lb, 25}|\n",
      "|[{8, lb, 0}, {8, ...|pull up|slightly tired| {8, lb, 0}| {8, lb, 0}|\n",
      "|[{8, lb, 0}, {8, ...|pull up|slightly tired| {8, lb, 0}| {8, lb, 0}|\n",
      "|[{8, lb, 0}, {8, ...|pull up|slightly tired| {8, lb, 0}| {5, lb, 0}|\n",
      "|[{8, lb, 0}, {8, ...|pull up|slightly tired| {8, lb, 0}|{3, lb, 25}|\n",
      "|[{8, lb, 0}, {8, ...|pull up|slightly tired| {8, lb, 0}|{3, lb, 25}|\n",
      "|[{8, lb, 0}, {8, ...|pull up|slightly tired| {5, lb, 0}| {8, lb, 0}|\n",
      "|[{8, lb, 0}, {8, ...|pull up|slightly tired| {5, lb, 0}| {8, lb, 0}|\n",
      "|[{8, lb, 0}, {8, ...|pull up|slightly tired| {5, lb, 0}| {5, lb, 0}|\n",
      "|[{8, lb, 0}, {8, ...|pull up|slightly tired| {5, lb, 0}|{3, lb, 25}|\n",
      "|[{8, lb, 0}, {8, ...|pull up|slightly tired| {5, lb, 0}|{3, lb, 25}|\n",
      "|[{8, lb, 0}, {8, ...|pull up|slightly tired|{3, lb, 25}| {8, lb, 0}|\n",
      "|[{8, lb, 0}, {8, ...|pull up|slightly tired|{3, lb, 25}| {8, lb, 0}|\n",
      "|[{8, lb, 0}, {8, ...|pull up|slightly tired|{3, lb, 25}| {5, lb, 0}|\n",
      "|[{8, lb, 0}, {8, ...|pull up|slightly tired|{3, lb, 25}|{3, lb, 25}|\n",
      "|[{8, lb, 0}, {8, ...|pull up|slightly tired|{3, lb, 25}|{3, lb, 25}|\n",
      "+--------------------+-------+--------------+-----------+-----------+\n",
      "only showing top 20 rows\n",
      "\n"
     ]
    }
   ],
   "source": [
    "df3 = df2.withColumn(colName = \"details_2\",col = F.explode(F.col(\"details\")))\\\n",
    "         .withColumn(colName = \"details_3\",col = F.explode(F.col(\"details\")))\n",
    "df3.show()"
   ]
  },
  {
   "cell_type": "code",
   "execution_count": 136,
   "metadata": {},
   "outputs": [
    {
     "name": "stdout",
     "output_type": "stream",
     "text": [
      "+------------+-----------+--------------------+\n",
      "|     details|       name|                note|\n",
      "+------------+-----------+--------------------+\n",
      "|  {8, lb, 0}|    pull up|      slightly tired|\n",
      "|  {8, lb, 0}|    pull up|      slightly tired|\n",
      "|  {5, lb, 0}|    pull up|      slightly tired|\n",
      "| {3, lb, 25}|    pull up|      slightly tired|\n",
      "| {3, lb, 25}|    pull up|      slightly tired|\n",
      "|{10, lb, 95}|barbell row|    getting started!|\n",
      "|{10, lb, 95}|barbell row|    getting started!|\n",
      "|{10, lb, 95}|barbell row|    getting started!|\n",
      "| {8, lb, 95}|barbell row|    getting started!|\n",
      "|{10, lb, 45}|dumbell row|    getting started!|\n",
      "|{10, lb, 45}|dumbell row|    getting started!|\n",
      "|{10, lb, 45}|dumbell row|    getting started!|\n",
      "| {8, lb, 45}|dumbell row|    getting started!|\n",
      "| {10, lb, 0}|       dips|dip targeting tricep|\n",
      "| {10, lb, 0}|       dips|dip targeting tricep|\n",
      "+------------+-----------+--------------------+\n",
      "\n"
     ]
    }
   ],
   "source": [
    "df3 = df2.withColumn(colName = \"details\",col = F.explode(F.col(\"details\")))\n",
    "df3.show()"
   ]
  },
  {
   "cell_type": "code",
   "execution_count": 152,
   "metadata": {},
   "outputs": [
    {
     "ename": "TypeError",
     "evalue": "'Column' object is not callable",
     "output_type": "error",
     "traceback": [
      "\u001b[0;31m---------------------------------------------------------------------------\u001b[0m",
      "\u001b[0;31mTypeError\u001b[0m                                 Traceback (most recent call last)",
      "\u001b[1;32m/Users/yixiangzhang/Documents/workout-log/workout-dump/test_weight.ipynb Cell 13\u001b[0m in \u001b[0;36m<cell line: 1>\u001b[0;34m()\u001b[0m\n\u001b[0;32m----> <a href='vscode-notebook-cell:/Users/yixiangzhang/Documents/workout-log/workout-dump/test_weight.ipynb#X26sZmlsZQ%3D%3D?line=0'>1</a>\u001b[0m F\u001b[39m.\u001b[39;49mexplode(F\u001b[39m.\u001b[39;49mcol(\u001b[39m\"\u001b[39;49m\u001b[39mdetails\u001b[39;49m\u001b[39m\"\u001b[39;49m))\u001b[39m.\u001b[39;49mcollect()\n",
      "\u001b[0;31mTypeError\u001b[0m: 'Column' object is not callable"
     ]
    }
   ],
   "source": [
    "F.explode(F.col(\"details\"))"
   ]
  },
  {
   "cell_type": "code",
   "execution_count": 143,
   "metadata": {},
   "outputs": [
    {
     "name": "stdout",
     "output_type": "stream",
     "text": [
      "+------------+-----------+--------------------+\n",
      "|     details|       name|                note|\n",
      "+------------+-----------+--------------------+\n",
      "|  {8, lb, 0}|    pull up|      slightly tired|\n",
      "|  {8, lb, 0}|    pull up|      slightly tired|\n",
      "|  {5, lb, 0}|    pull up|      slightly tired|\n",
      "| {3, lb, 25}|    pull up|      slightly tired|\n",
      "| {3, lb, 25}|    pull up|      slightly tired|\n",
      "|{10, lb, 95}|barbell row|    getting started!|\n",
      "|{10, lb, 95}|barbell row|    getting started!|\n",
      "|{10, lb, 95}|barbell row|    getting started!|\n",
      "| {8, lb, 95}|barbell row|    getting started!|\n",
      "|{10, lb, 45}|dumbell row|    getting started!|\n",
      "|{10, lb, 45}|dumbell row|    getting started!|\n",
      "|{10, lb, 45}|dumbell row|    getting started!|\n",
      "| {8, lb, 45}|dumbell row|    getting started!|\n",
      "| {10, lb, 0}|       dips|dip targeting tricep|\n",
      "| {10, lb, 0}|       dips|dip targeting tricep|\n",
      "+------------+-----------+--------------------+\n",
      "\n"
     ]
    }
   ],
   "source": [
    "df3 = df2.withColumn(colName = \"reps\",col = F.explode(F.col(\"details\")))\n",
    "df3.show()"
   ]
  },
  {
   "cell_type": "code",
   "execution_count": 133,
   "metadata": {},
   "outputs": [
    {
     "name": "stdout",
     "output_type": "stream",
     "text": [
      "+----+----+------+\n",
      "|reps|unit|weight|\n",
      "+----+----+------+\n",
      "|   8|  lb|     0|\n",
      "|   8|  lb|     0|\n",
      "|   5|  lb|     0|\n",
      "|   3|  lb|    25|\n",
      "|   3|  lb|    25|\n",
      "|  10|  lb|    95|\n",
      "|  10|  lb|    95|\n",
      "|  10|  lb|    95|\n",
      "|   8|  lb|    95|\n",
      "|  10|  lb|    45|\n",
      "|  10|  lb|    45|\n",
      "|  10|  lb|    45|\n",
      "|   8|  lb|    45|\n",
      "|  10|  lb|     0|\n",
      "|  10|  lb|     0|\n",
      "+----+----+------+\n",
      "\n"
     ]
    }
   ],
   "source": [
    "df4 = df3.select('details.*')\n",
    "df4.show()"
   ]
  },
  {
   "cell_type": "code",
   "execution_count": null,
   "metadata": {},
   "outputs": [],
   "source": []
  }
 ],
 "metadata": {
  "kernelspec": {
   "display_name": "Python 3.10.8 ('workout')",
   "language": "python",
   "name": "python3"
  },
  "language_info": {
   "codemirror_mode": {
    "name": "ipython",
    "version": 3
   },
   "file_extension": ".py",
   "mimetype": "text/x-python",
   "name": "python",
   "nbconvert_exporter": "python",
   "pygments_lexer": "ipython3",
   "version": "3.10.8"
  },
  "orig_nbformat": 4,
  "vscode": {
   "interpreter": {
    "hash": "e3e0c539d89396dd32e69372822875f2dcb701b5d0b9736507633c7eca01c728"
   }
  }
 },
 "nbformat": 4,
 "nbformat_minor": 2
}
